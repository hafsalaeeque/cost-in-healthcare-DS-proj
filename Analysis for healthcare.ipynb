{
 "cells": [
  {
   "cell_type": "markdown",
   "metadata": {},
   "source": [
    "\n",
    "# Data Analysis for cost of care in healthcare\n",
    "_by Hafsa Laeeque_\n",
    "\n",
    "---\n",
    "The task is to<br>\n",
    "  > 1) analyze the **clinical and financial data** of patients hospitalized for a _certain condition_.<br>\n",
    "    2) join data given in the different tables.<br>\n",
    "    3) find insights about **drivers of cost of care**.<br>\n",
    "    4) document _approach, results and insights_ using [slides](https://docs.google.com/presentation/d/1-gYni51iGkYh4OCCr-BYKAV3YqUH4OzQOUAtz5MkrEg/edit?usp=sharing) and a [document](https://docs.google.com/document/d/1fQB0AP2ue_zKVUUAHx_1sJ626okOMtm_IdLOnw-9__A/edit?usp=sharing), both of which should have a similar narrative.<br>\n",
    "\n",
    "---\n",
    "There are 4 excel files in the [datasets](https://github.com/hafsalaeeque/cost-in-healthcare-DS-proj/tree/master/datasets) folder which I will be using."
   ]
  },
  {
   "cell_type": "markdown",
   "metadata": {},
   "source": [
    "## Analysing the datasets\n",
    "### Import packages"
   ]
  },
  {
   "cell_type": "code",
   "execution_count": 10,
   "metadata": {},
   "outputs": [],
   "source": [
    "import pandas as pd\n",
    "import matplotlib.pyplot as plt\n",
    "import numpy as np\n",
    "import seaborn as sns\n",
    "%matplotlib inline\n",
    "\n",
    "import warnings\n",
    "warnings.filterwarnings(\"ignore\")"
   ]
  },
  {
   "cell_type": "code",
   "execution_count": 36,
   "metadata": {},
   "outputs": [],
   "source": [
    "#display columns and rows\n",
    "pd.options.display.max_columns = 50\n",
    "pd.options.display.max_rows = 4000"
   ]
  },
  {
   "cell_type": "markdown",
   "metadata": {},
   "source": [
    "### (A) Load the datasets\n",
    "A1 - Let's load the first dataset `bill_amount.csv`."
   ]
  },
  {
   "cell_type": "code",
   "execution_count": 11,
   "metadata": {},
   "outputs": [],
   "source": [
    "bill_amt = pd.read_csv('datasets/bill_amount.csv')"
   ]
  },
  {
   "cell_type": "code",
   "execution_count": 12,
   "metadata": {},
   "outputs": [
    {
     "data": {
      "text/plain": [
       "(13600, 2)"
      ]
     },
     "execution_count": 12,
     "metadata": {},
     "output_type": "execute_result"
    }
   ],
   "source": [
    "bill_amt.shape"
   ]
  },
  {
   "cell_type": "code",
   "execution_count": 13,
   "metadata": {},
   "outputs": [
    {
     "name": "stdout",
     "output_type": "stream",
     "text": [
      "<class 'pandas.core.frame.DataFrame'>\n",
      "RangeIndex: 13600 entries, 0 to 13599\n",
      "Data columns (total 2 columns):\n",
      "bill_id    13600 non-null int64\n",
      "amount     13600 non-null float64\n",
      "dtypes: float64(1), int64(1)\n",
      "memory usage: 212.6 KB\n"
     ]
    }
   ],
   "source": [
    "bill_amt.info()"
   ]
  },
  {
   "cell_type": "code",
   "execution_count": 14,
   "metadata": {},
   "outputs": [
    {
     "data": {
      "text/html": [
       "<div>\n",
       "<style scoped>\n",
       "    .dataframe tbody tr th:only-of-type {\n",
       "        vertical-align: middle;\n",
       "    }\n",
       "\n",
       "    .dataframe tbody tr th {\n",
       "        vertical-align: top;\n",
       "    }\n",
       "\n",
       "    .dataframe thead th {\n",
       "        text-align: right;\n",
       "    }\n",
       "</style>\n",
       "<table border=\"1\" class=\"dataframe\">\n",
       "  <thead>\n",
       "    <tr style=\"text-align: right;\">\n",
       "      <th></th>\n",
       "      <th>bill_id</th>\n",
       "      <th>amount</th>\n",
       "    </tr>\n",
       "  </thead>\n",
       "  <tbody>\n",
       "    <tr>\n",
       "      <th>0</th>\n",
       "      <td>40315104</td>\n",
       "      <td>1552.634830</td>\n",
       "    </tr>\n",
       "    <tr>\n",
       "      <th>1</th>\n",
       "      <td>2660045161</td>\n",
       "      <td>1032.011951</td>\n",
       "    </tr>\n",
       "    <tr>\n",
       "      <th>2</th>\n",
       "      <td>1148334643</td>\n",
       "      <td>6469.605351</td>\n",
       "    </tr>\n",
       "    <tr>\n",
       "      <th>3</th>\n",
       "      <td>3818426276</td>\n",
       "      <td>755.965425</td>\n",
       "    </tr>\n",
       "    <tr>\n",
       "      <th>4</th>\n",
       "      <td>9833541918</td>\n",
       "      <td>897.347816</td>\n",
       "    </tr>\n",
       "  </tbody>\n",
       "</table>\n",
       "</div>"
      ],
      "text/plain": [
       "      bill_id       amount\n",
       "0    40315104  1552.634830\n",
       "1  2660045161  1032.011951\n",
       "2  1148334643  6469.605351\n",
       "3  3818426276   755.965425\n",
       "4  9833541918   897.347816"
      ]
     },
     "execution_count": 14,
     "metadata": {},
     "output_type": "execute_result"
    }
   ],
   "source": [
    "bill_amt.head()"
   ]
  },
  {
   "cell_type": "code",
   "execution_count": 15,
   "metadata": {},
   "outputs": [
    {
     "data": {
      "text/plain": [
       "13600"
      ]
     },
     "execution_count": 15,
     "metadata": {},
     "output_type": "execute_result"
    }
   ],
   "source": [
    "bill_amt.bill_id.nunique()"
   ]
  },
  {
   "cell_type": "markdown",
   "metadata": {},
   "source": [
    "The first excel file, `bill_amt.csv`, does not have any null values. The data shows the cost incurred for each unique bill.\n",
    "\n",
    "---\n",
    "A2 - Let's load the second dataset `bill_id.csv`."
   ]
  },
  {
   "cell_type": "code",
   "execution_count": 57,
   "metadata": {},
   "outputs": [],
   "source": [
    "bill_id_df = pd.read_csv('datasets/bill_id.csv')"
   ]
  },
  {
   "cell_type": "code",
   "execution_count": 22,
   "metadata": {},
   "outputs": [
    {
     "data": {
      "text/plain": [
       "(13600, 3)"
      ]
     },
     "execution_count": 22,
     "metadata": {},
     "output_type": "execute_result"
    }
   ],
   "source": [
    "bill_id_df.shape"
   ]
  },
  {
   "cell_type": "code",
   "execution_count": 23,
   "metadata": {},
   "outputs": [
    {
     "name": "stdout",
     "output_type": "stream",
     "text": [
      "<class 'pandas.core.frame.DataFrame'>\n",
      "RangeIndex: 13600 entries, 0 to 13599\n",
      "Data columns (total 3 columns):\n",
      "bill_id              13600 non-null int64\n",
      "patient_id           13600 non-null object\n",
      "date_of_admission    13600 non-null object\n",
      "dtypes: int64(1), object(2)\n",
      "memory usage: 318.8+ KB\n"
     ]
    }
   ],
   "source": [
    "bill_id_df.info()"
   ]
  },
  {
   "cell_type": "code",
   "execution_count": 41,
   "metadata": {},
   "outputs": [
    {
     "data": {
      "text/html": [
       "<div>\n",
       "<style scoped>\n",
       "    .dataframe tbody tr th:only-of-type {\n",
       "        vertical-align: middle;\n",
       "    }\n",
       "\n",
       "    .dataframe tbody tr th {\n",
       "        vertical-align: top;\n",
       "    }\n",
       "\n",
       "    .dataframe thead th {\n",
       "        text-align: right;\n",
       "    }\n",
       "</style>\n",
       "<table border=\"1\" class=\"dataframe\">\n",
       "  <thead>\n",
       "    <tr style=\"text-align: right;\">\n",
       "      <th></th>\n",
       "      <th>bill_id</th>\n",
       "      <th>patient_id</th>\n",
       "      <th>date_of_admission</th>\n",
       "    </tr>\n",
       "  </thead>\n",
       "  <tbody>\n",
       "    <tr>\n",
       "      <th>13595</th>\n",
       "      <td>1641053864</td>\n",
       "      <td>a4c61deaa9ce86b4d2289eab6128b872</td>\n",
       "      <td>2015-12-28</td>\n",
       "    </tr>\n",
       "    <tr>\n",
       "      <th>13596</th>\n",
       "      <td>6956955826</td>\n",
       "      <td>ac52a32f8ce8c46d82df2d72052ae5a9</td>\n",
       "      <td>2015-12-28</td>\n",
       "    </tr>\n",
       "    <tr>\n",
       "      <th>13597</th>\n",
       "      <td>1399259594</td>\n",
       "      <td>4f67a54ab205cc9e7e2b0a4ee08e4fba</td>\n",
       "      <td>2015-12-28</td>\n",
       "    </tr>\n",
       "    <tr>\n",
       "      <th>13598</th>\n",
       "      <td>9243628699</td>\n",
       "      <td>a4c61deaa9ce86b4d2289eab6128b872</td>\n",
       "      <td>2015-12-28</td>\n",
       "    </tr>\n",
       "    <tr>\n",
       "      <th>13599</th>\n",
       "      <td>4808173213</td>\n",
       "      <td>a4c61deaa9ce86b4d2289eab6128b872</td>\n",
       "      <td>2015-12-28</td>\n",
       "    </tr>\n",
       "  </tbody>\n",
       "</table>\n",
       "</div>"
      ],
      "text/plain": [
       "          bill_id                        patient_id date_of_admission\n",
       "13595  1641053864  a4c61deaa9ce86b4d2289eab6128b872        2015-12-28\n",
       "13596  6956955826  ac52a32f8ce8c46d82df2d72052ae5a9        2015-12-28\n",
       "13597  1399259594  4f67a54ab205cc9e7e2b0a4ee08e4fba        2015-12-28\n",
       "13598  9243628699  a4c61deaa9ce86b4d2289eab6128b872        2015-12-28\n",
       "13599  4808173213  a4c61deaa9ce86b4d2289eab6128b872        2015-12-28"
      ]
     },
     "execution_count": 41,
     "metadata": {},
     "output_type": "execute_result"
    }
   ],
   "source": [
    "bill_id_df.tail()"
   ]
  },
  {
   "cell_type": "code",
   "execution_count": 25,
   "metadata": {},
   "outputs": [
    {
     "data": {
      "text/plain": [
       "13600"
      ]
     },
     "execution_count": 25,
     "metadata": {},
     "output_type": "execute_result"
    }
   ],
   "source": [
    "bill_id_df.bill_id.nunique()"
   ]
  },
  {
   "cell_type": "markdown",
   "metadata": {},
   "source": [
    "The second excel file, `bill_id.csv`, does not have any null values. The data shows the _date_ for when a patient was admitted in the hospital for each unique bill. This could be joined with our first dataset so we can observe the cost incurred for each patient.\n",
    "\n",
    "---\n",
    "A3 - Let's load the third dataset `clinical_data.csv`."
   ]
  },
  {
   "cell_type": "code",
   "execution_count": 26,
   "metadata": {},
   "outputs": [],
   "source": [
    "data = pd.read_csv('datasets/clinical_data.csv')"
   ]
  },
  {
   "cell_type": "code",
   "execution_count": 27,
   "metadata": {},
   "outputs": [
    {
     "data": {
      "text/plain": [
       "(3400, 26)"
      ]
     },
     "execution_count": 27,
     "metadata": {},
     "output_type": "execute_result"
    }
   ],
   "source": [
    "data.shape"
   ]
  },
  {
   "cell_type": "code",
   "execution_count": 28,
   "metadata": {},
   "outputs": [
    {
     "name": "stdout",
     "output_type": "stream",
     "text": [
      "<class 'pandas.core.frame.DataFrame'>\n",
      "RangeIndex: 3400 entries, 0 to 3399\n",
      "Data columns (total 26 columns):\n",
      "id                    3400 non-null object\n",
      "date_of_admission     3400 non-null object\n",
      "date_of_discharge     3400 non-null object\n",
      "medical_history_1     3400 non-null int64\n",
      "medical_history_2     3167 non-null float64\n",
      "medical_history_3     3400 non-null object\n",
      "medical_history_4     3400 non-null int64\n",
      "medical_history_5     3096 non-null float64\n",
      "medical_history_6     3400 non-null int64\n",
      "medical_history_7     3400 non-null int64\n",
      "preop_medication_1    3400 non-null int64\n",
      "preop_medication_2    3400 non-null int64\n",
      "preop_medication_3    3400 non-null int64\n",
      "preop_medication_4    3400 non-null int64\n",
      "preop_medication_5    3400 non-null int64\n",
      "preop_medication_6    3400 non-null int64\n",
      "symptom_1             3400 non-null int64\n",
      "symptom_2             3400 non-null int64\n",
      "symptom_3             3400 non-null int64\n",
      "symptom_4             3400 non-null int64\n",
      "symptom_5             3400 non-null int64\n",
      "lab_result_1          3400 non-null float64\n",
      "lab_result_2          3400 non-null float64\n",
      "lab_result_3          3400 non-null float64\n",
      "weight                3400 non-null float64\n",
      "height                3400 non-null float64\n",
      "dtypes: float64(7), int64(15), object(4)\n",
      "memory usage: 690.7+ KB\n"
     ]
    }
   ],
   "source": [
    "data.info()"
   ]
  },
  {
   "cell_type": "code",
   "execution_count": 29,
   "metadata": {},
   "outputs": [
    {
     "data": {
      "text/plain": [
       "537"
      ]
     },
     "execution_count": 29,
     "metadata": {},
     "output_type": "execute_result"
    }
   ],
   "source": [
    "data.isnull().sum().sum()"
   ]
  },
  {
   "cell_type": "code",
   "execution_count": 46,
   "metadata": {
    "scrolled": false
   },
   "outputs": [
    {
     "data": {
      "text/html": [
       "<div>\n",
       "<style scoped>\n",
       "    .dataframe tbody tr th:only-of-type {\n",
       "        vertical-align: middle;\n",
       "    }\n",
       "\n",
       "    .dataframe tbody tr th {\n",
       "        vertical-align: top;\n",
       "    }\n",
       "\n",
       "    .dataframe thead th {\n",
       "        text-align: right;\n",
       "    }\n",
       "</style>\n",
       "<table border=\"1\" class=\"dataframe\">\n",
       "  <thead>\n",
       "    <tr style=\"text-align: right;\">\n",
       "      <th></th>\n",
       "      <th>id</th>\n",
       "      <th>date_of_admission</th>\n",
       "      <th>date_of_discharge</th>\n",
       "      <th>medical_history_1</th>\n",
       "      <th>medical_history_2</th>\n",
       "      <th>medical_history_3</th>\n",
       "      <th>medical_history_4</th>\n",
       "      <th>medical_history_5</th>\n",
       "      <th>medical_history_6</th>\n",
       "      <th>medical_history_7</th>\n",
       "      <th>preop_medication_1</th>\n",
       "      <th>preop_medication_2</th>\n",
       "      <th>preop_medication_3</th>\n",
       "      <th>preop_medication_4</th>\n",
       "      <th>preop_medication_5</th>\n",
       "      <th>preop_medication_6</th>\n",
       "      <th>symptom_1</th>\n",
       "      <th>symptom_2</th>\n",
       "      <th>symptom_3</th>\n",
       "      <th>symptom_4</th>\n",
       "      <th>symptom_5</th>\n",
       "      <th>lab_result_1</th>\n",
       "      <th>lab_result_2</th>\n",
       "      <th>lab_result_3</th>\n",
       "      <th>weight</th>\n",
       "      <th>height</th>\n",
       "    </tr>\n",
       "  </thead>\n",
       "  <tbody>\n",
       "    <tr>\n",
       "      <th>0</th>\n",
       "      <td>1d21f2be18683991eb93d182d6b2d220</td>\n",
       "      <td>2011-01-01</td>\n",
       "      <td>2011-01-11</td>\n",
       "      <td>0</td>\n",
       "      <td>1.0</td>\n",
       "      <td>0</td>\n",
       "      <td>0</td>\n",
       "      <td>0.0</td>\n",
       "      <td>0</td>\n",
       "      <td>0</td>\n",
       "      <td>1</td>\n",
       "      <td>0</td>\n",
       "      <td>1</td>\n",
       "      <td>0</td>\n",
       "      <td>0</td>\n",
       "      <td>1</td>\n",
       "      <td>0</td>\n",
       "      <td>0</td>\n",
       "      <td>0</td>\n",
       "      <td>1</td>\n",
       "      <td>1</td>\n",
       "      <td>13.2</td>\n",
       "      <td>30.9</td>\n",
       "      <td>123.0</td>\n",
       "      <td>71.3</td>\n",
       "      <td>161.0</td>\n",
       "    </tr>\n",
       "    <tr>\n",
       "      <th>1</th>\n",
       "      <td>62bdca0b95d97e99e1c712048fb9fd09</td>\n",
       "      <td>2011-01-01</td>\n",
       "      <td>2011-01-11</td>\n",
       "      <td>0</td>\n",
       "      <td>0.0</td>\n",
       "      <td>0</td>\n",
       "      <td>0</td>\n",
       "      <td>0.0</td>\n",
       "      <td>0</td>\n",
       "      <td>0</td>\n",
       "      <td>0</td>\n",
       "      <td>1</td>\n",
       "      <td>1</td>\n",
       "      <td>1</td>\n",
       "      <td>1</td>\n",
       "      <td>0</td>\n",
       "      <td>0</td>\n",
       "      <td>0</td>\n",
       "      <td>1</td>\n",
       "      <td>1</td>\n",
       "      <td>1</td>\n",
       "      <td>13.8</td>\n",
       "      <td>22.6</td>\n",
       "      <td>89.0</td>\n",
       "      <td>78.4</td>\n",
       "      <td>160.0</td>\n",
       "    </tr>\n",
       "    <tr>\n",
       "      <th>2</th>\n",
       "      <td>c85cf97bc6307ded0dd4fef8bad2fa09</td>\n",
       "      <td>2011-01-02</td>\n",
       "      <td>2011-01-13</td>\n",
       "      <td>0</td>\n",
       "      <td>0.0</td>\n",
       "      <td>0</td>\n",
       "      <td>0</td>\n",
       "      <td>0.0</td>\n",
       "      <td>0</td>\n",
       "      <td>0</td>\n",
       "      <td>0</td>\n",
       "      <td>1</td>\n",
       "      <td>1</td>\n",
       "      <td>1</td>\n",
       "      <td>1</td>\n",
       "      <td>1</td>\n",
       "      <td>1</td>\n",
       "      <td>1</td>\n",
       "      <td>1</td>\n",
       "      <td>1</td>\n",
       "      <td>0</td>\n",
       "      <td>11.2</td>\n",
       "      <td>26.2</td>\n",
       "      <td>100.0</td>\n",
       "      <td>72.0</td>\n",
       "      <td>151.0</td>\n",
       "    </tr>\n",
       "    <tr>\n",
       "      <th>3</th>\n",
       "      <td>e0397dd72caf4552c5babebd3d61736c</td>\n",
       "      <td>2011-01-02</td>\n",
       "      <td>2011-01-14</td>\n",
       "      <td>0</td>\n",
       "      <td>1.0</td>\n",
       "      <td>No</td>\n",
       "      <td>0</td>\n",
       "      <td>0.0</td>\n",
       "      <td>1</td>\n",
       "      <td>1</td>\n",
       "      <td>1</td>\n",
       "      <td>0</td>\n",
       "      <td>1</td>\n",
       "      <td>0</td>\n",
       "      <td>0</td>\n",
       "      <td>1</td>\n",
       "      <td>1</td>\n",
       "      <td>1</td>\n",
       "      <td>1</td>\n",
       "      <td>1</td>\n",
       "      <td>1</td>\n",
       "      <td>13.3</td>\n",
       "      <td>28.4</td>\n",
       "      <td>76.0</td>\n",
       "      <td>64.4</td>\n",
       "      <td>152.0</td>\n",
       "    </tr>\n",
       "    <tr>\n",
       "      <th>4</th>\n",
       "      <td>94ade3cd5f66f4584902554dff170a29</td>\n",
       "      <td>2011-01-08</td>\n",
       "      <td>2011-01-16</td>\n",
       "      <td>0</td>\n",
       "      <td>0.0</td>\n",
       "      <td>No</td>\n",
       "      <td>0</td>\n",
       "      <td>0.0</td>\n",
       "      <td>1</td>\n",
       "      <td>1</td>\n",
       "      <td>0</td>\n",
       "      <td>0</td>\n",
       "      <td>0</td>\n",
       "      <td>0</td>\n",
       "      <td>1</td>\n",
       "      <td>0</td>\n",
       "      <td>0</td>\n",
       "      <td>1</td>\n",
       "      <td>0</td>\n",
       "      <td>1</td>\n",
       "      <td>0</td>\n",
       "      <td>12.0</td>\n",
       "      <td>27.8</td>\n",
       "      <td>87.0</td>\n",
       "      <td>55.6</td>\n",
       "      <td>160.0</td>\n",
       "    </tr>\n",
       "    <tr>\n",
       "      <th>5</th>\n",
       "      <td>59e07adc2dbc5f70131f57d003610d74</td>\n",
       "      <td>2011-01-07</td>\n",
       "      <td>2011-01-17</td>\n",
       "      <td>0</td>\n",
       "      <td>NaN</td>\n",
       "      <td>No</td>\n",
       "      <td>0</td>\n",
       "      <td>NaN</td>\n",
       "      <td>0</td>\n",
       "      <td>0</td>\n",
       "      <td>0</td>\n",
       "      <td>1</td>\n",
       "      <td>1</td>\n",
       "      <td>1</td>\n",
       "      <td>1</td>\n",
       "      <td>1</td>\n",
       "      <td>1</td>\n",
       "      <td>0</td>\n",
       "      <td>1</td>\n",
       "      <td>1</td>\n",
       "      <td>1</td>\n",
       "      <td>15.8</td>\n",
       "      <td>31.0</td>\n",
       "      <td>75.0</td>\n",
       "      <td>78.8</td>\n",
       "      <td>169.0</td>\n",
       "    </tr>\n",
       "  </tbody>\n",
       "</table>\n",
       "</div>"
      ],
      "text/plain": [
       "                                 id date_of_admission date_of_discharge  \\\n",
       "0  1d21f2be18683991eb93d182d6b2d220        2011-01-01        2011-01-11   \n",
       "1  62bdca0b95d97e99e1c712048fb9fd09        2011-01-01        2011-01-11   \n",
       "2  c85cf97bc6307ded0dd4fef8bad2fa09        2011-01-02        2011-01-13   \n",
       "3  e0397dd72caf4552c5babebd3d61736c        2011-01-02        2011-01-14   \n",
       "4  94ade3cd5f66f4584902554dff170a29        2011-01-08        2011-01-16   \n",
       "5  59e07adc2dbc5f70131f57d003610d74        2011-01-07        2011-01-17   \n",
       "\n",
       "   medical_history_1  medical_history_2 medical_history_3  medical_history_4  \\\n",
       "0                  0                1.0                 0                  0   \n",
       "1                  0                0.0                 0                  0   \n",
       "2                  0                0.0                 0                  0   \n",
       "3                  0                1.0                No                  0   \n",
       "4                  0                0.0                No                  0   \n",
       "5                  0                NaN                No                  0   \n",
       "\n",
       "   medical_history_5  medical_history_6  medical_history_7  \\\n",
       "0                0.0                  0                  0   \n",
       "1                0.0                  0                  0   \n",
       "2                0.0                  0                  0   \n",
       "3                0.0                  1                  1   \n",
       "4                0.0                  1                  1   \n",
       "5                NaN                  0                  0   \n",
       "\n",
       "   preop_medication_1  preop_medication_2  preop_medication_3  \\\n",
       "0                   1                   0                   1   \n",
       "1                   0                   1                   1   \n",
       "2                   0                   1                   1   \n",
       "3                   1                   0                   1   \n",
       "4                   0                   0                   0   \n",
       "5                   0                   1                   1   \n",
       "\n",
       "   preop_medication_4  preop_medication_5  preop_medication_6  symptom_1  \\\n",
       "0                   0                   0                   1          0   \n",
       "1                   1                   1                   0          0   \n",
       "2                   1                   1                   1          1   \n",
       "3                   0                   0                   1          1   \n",
       "4                   0                   1                   0          0   \n",
       "5                   1                   1                   1          1   \n",
       "\n",
       "   symptom_2  symptom_3  symptom_4  symptom_5  lab_result_1  lab_result_2  \\\n",
       "0          0          0          1          1          13.2          30.9   \n",
       "1          0          1          1          1          13.8          22.6   \n",
       "2          1          1          1          0          11.2          26.2   \n",
       "3          1          1          1          1          13.3          28.4   \n",
       "4          1          0          1          0          12.0          27.8   \n",
       "5          0          1          1          1          15.8          31.0   \n",
       "\n",
       "   lab_result_3  weight  height  \n",
       "0         123.0    71.3   161.0  \n",
       "1          89.0    78.4   160.0  \n",
       "2         100.0    72.0   151.0  \n",
       "3          76.0    64.4   152.0  \n",
       "4          87.0    55.6   160.0  \n",
       "5          75.0    78.8   169.0  "
      ]
     },
     "execution_count": 46,
     "metadata": {},
     "output_type": "execute_result"
    }
   ],
   "source": [
    "data.head(6)"
   ]
  },
  {
   "cell_type": "markdown",
   "metadata": {},
   "source": [
    "The third excel file, `clinical_data.csv` has 25 types of clinical data entries of 3400 patients.<br>\n",
    "- It covers the\n",
    "    - the date as to when the patient was admitted and discharged,\n",
    "    - height of patient,\n",
    "    - weight of patient,\n",
    "    - if patient has any/all 7 medical histories, \n",
    "    - if patient has had to take any/all the 6 preoperation medication, \n",
    "    - if patient showed any/all the 5 symptoms and\n",
    "    - 3 lab results of patient<br>\n",
    "    \n",
    "- The `id` column of the dataset seems to be the `patient_id` column in the `bill_id_df` datset.<br>\n",
    "- It has **537 null values** in the 2nd and 5th medical history data.<br>\n",
    "- The dataset needs to be cleaned as there are\n",
    "     - string objects like \"No\" in the 3rd medical history column and<br>\n",
    "     - null values.<br>\n",
    "     \n",
    "Considering that we had 13,600 unique patients in the `bill_id_df` dataset, the `clinical_data.csv` has only 25% of these patients' clinical data. \n",
    "\n",
    "---\n",
    "A4 - Let's load the last dataset `demographics.csv`."
   ]
  },
  {
   "cell_type": "code",
   "execution_count": 43,
   "metadata": {},
   "outputs": [],
   "source": [
    "demographic = pd.read_csv('datasets/demographics.csv')"
   ]
  },
  {
   "cell_type": "code",
   "execution_count": 45,
   "metadata": {},
   "outputs": [
    {
     "data": {
      "text/plain": [
       "(3000, 5)"
      ]
     },
     "execution_count": 45,
     "metadata": {},
     "output_type": "execute_result"
    }
   ],
   "source": [
    "demographic.shape"
   ]
  },
  {
   "cell_type": "code",
   "execution_count": 47,
   "metadata": {},
   "outputs": [
    {
     "name": "stdout",
     "output_type": "stream",
     "text": [
      "<class 'pandas.core.frame.DataFrame'>\n",
      "RangeIndex: 3000 entries, 0 to 2999\n",
      "Data columns (total 5 columns):\n",
      "patient_id         3000 non-null object\n",
      "gender             3000 non-null object\n",
      "race               3000 non-null object\n",
      "resident_status    3000 non-null object\n",
      "date_of_birth      3000 non-null object\n",
      "dtypes: object(5)\n",
      "memory usage: 117.3+ KB\n"
     ]
    }
   ],
   "source": [
    "demographic.info()"
   ]
  },
  {
   "cell_type": "code",
   "execution_count": 50,
   "metadata": {},
   "outputs": [
    {
     "data": {
      "text/html": [
       "<div>\n",
       "<style scoped>\n",
       "    .dataframe tbody tr th:only-of-type {\n",
       "        vertical-align: middle;\n",
       "    }\n",
       "\n",
       "    .dataframe tbody tr th {\n",
       "        vertical-align: top;\n",
       "    }\n",
       "\n",
       "    .dataframe thead th {\n",
       "        text-align: right;\n",
       "    }\n",
       "</style>\n",
       "<table border=\"1\" class=\"dataframe\">\n",
       "  <thead>\n",
       "    <tr style=\"text-align: right;\">\n",
       "      <th></th>\n",
       "      <th>patient_id</th>\n",
       "      <th>gender</th>\n",
       "      <th>race</th>\n",
       "      <th>resident_status</th>\n",
       "      <th>date_of_birth</th>\n",
       "    </tr>\n",
       "  </thead>\n",
       "  <tbody>\n",
       "    <tr>\n",
       "      <th>0</th>\n",
       "      <td>fa2d818b2261e44e30628ad1ac9cc72c</td>\n",
       "      <td>Female</td>\n",
       "      <td>Indian</td>\n",
       "      <td>Singaporean</td>\n",
       "      <td>1971-05-14</td>\n",
       "    </tr>\n",
       "    <tr>\n",
       "      <th>1</th>\n",
       "      <td>5b6477c5de78d0b138e3b0c18e21d0ae</td>\n",
       "      <td>f</td>\n",
       "      <td>Chinese</td>\n",
       "      <td>Singapore citizen</td>\n",
       "      <td>1976-02-18</td>\n",
       "    </tr>\n",
       "    <tr>\n",
       "      <th>2</th>\n",
       "      <td>320aa16c61937447fd6631bf635e7fde</td>\n",
       "      <td>Male</td>\n",
       "      <td>Chinese</td>\n",
       "      <td>Singapore citizen</td>\n",
       "      <td>1982-07-03</td>\n",
       "    </tr>\n",
       "    <tr>\n",
       "      <th>3</th>\n",
       "      <td>c7f3881684045e6c49020481020fae36</td>\n",
       "      <td>Male</td>\n",
       "      <td>Malay</td>\n",
       "      <td>Singapore citizen</td>\n",
       "      <td>1947-06-15</td>\n",
       "    </tr>\n",
       "    <tr>\n",
       "      <th>4</th>\n",
       "      <td>541ad077cb4a0e64cc422673afe28aef</td>\n",
       "      <td>m</td>\n",
       "      <td>Chinese</td>\n",
       "      <td>Singaporean</td>\n",
       "      <td>1970-12-12</td>\n",
       "    </tr>\n",
       "    <tr>\n",
       "      <th>5</th>\n",
       "      <td>cf280265a73331d6cad35b4800e96abf</td>\n",
       "      <td>Female</td>\n",
       "      <td>Chinese</td>\n",
       "      <td>PR</td>\n",
       "      <td>1966-12-01</td>\n",
       "    </tr>\n",
       "    <tr>\n",
       "      <th>6</th>\n",
       "      <td>94f7d3a8a4d6bb14859b64c3f03e4a6c</td>\n",
       "      <td>m</td>\n",
       "      <td>Malay</td>\n",
       "      <td>Singaporean</td>\n",
       "      <td>1975-09-14</td>\n",
       "    </tr>\n",
       "    <tr>\n",
       "      <th>7</th>\n",
       "      <td>43dfbeb8d76f3b00b8fa7a49e5a3eb6f</td>\n",
       "      <td>f</td>\n",
       "      <td>chinese</td>\n",
       "      <td>Singaporean</td>\n",
       "      <td>1974-03-04</td>\n",
       "    </tr>\n",
       "    <tr>\n",
       "      <th>8</th>\n",
       "      <td>2882e70ff56c2600bbbbb855fcfa96b9</td>\n",
       "      <td>Male</td>\n",
       "      <td>Chinese</td>\n",
       "      <td>Singaporean</td>\n",
       "      <td>1969-04-22</td>\n",
       "    </tr>\n",
       "    <tr>\n",
       "      <th>9</th>\n",
       "      <td>36e65f14c328fef0b02aa7d4047c6f74</td>\n",
       "      <td>Female</td>\n",
       "      <td>Chinese</td>\n",
       "      <td>Singapore citizen</td>\n",
       "      <td>1976-10-24</td>\n",
       "    </tr>\n",
       "  </tbody>\n",
       "</table>\n",
       "</div>"
      ],
      "text/plain": [
       "                         patient_id  gender     race    resident_status  \\\n",
       "0  fa2d818b2261e44e30628ad1ac9cc72c  Female   Indian        Singaporean   \n",
       "1  5b6477c5de78d0b138e3b0c18e21d0ae       f  Chinese  Singapore citizen   \n",
       "2  320aa16c61937447fd6631bf635e7fde    Male  Chinese  Singapore citizen   \n",
       "3  c7f3881684045e6c49020481020fae36    Male    Malay  Singapore citizen   \n",
       "4  541ad077cb4a0e64cc422673afe28aef       m  Chinese        Singaporean   \n",
       "5  cf280265a73331d6cad35b4800e96abf  Female  Chinese                 PR   \n",
       "6  94f7d3a8a4d6bb14859b64c3f03e4a6c       m    Malay        Singaporean   \n",
       "7  43dfbeb8d76f3b00b8fa7a49e5a3eb6f       f  chinese        Singaporean   \n",
       "8  2882e70ff56c2600bbbbb855fcfa96b9    Male  Chinese        Singaporean   \n",
       "9  36e65f14c328fef0b02aa7d4047c6f74  Female  Chinese  Singapore citizen   \n",
       "\n",
       "  date_of_birth  \n",
       "0    1971-05-14  \n",
       "1    1976-02-18  \n",
       "2    1982-07-03  \n",
       "3    1947-06-15  \n",
       "4    1970-12-12  \n",
       "5    1966-12-01  \n",
       "6    1975-09-14  \n",
       "7    1974-03-04  \n",
       "8    1969-04-22  \n",
       "9    1976-10-24  "
      ]
     },
     "execution_count": 50,
     "metadata": {},
     "output_type": "execute_result"
    }
   ],
   "source": [
    "demographic.head(10)"
   ]
  },
  {
   "cell_type": "markdown",
   "metadata": {},
   "source": [
    "The last excel file, `demographics.csv` has 4 categories of 3000 patients that tell us more about the patient.<br>\n",
    "- It has the\n",
    "    - gender of patient,\n",
    "    - race of patient,\n",
    "    - resident status of patient and\n",
    "    - date of birth of patient<br>\n",
    "    \n",
    "- The `patient_id` column of the dataset seems to be the `patient_id` column in the `bill_id_df` datset.<br>\n",
    "- There are no null values.<br>\n",
    "- The dataset needs to be cleaned as there are\n",
    "     - dates in object type<br>\n",
    "     - synonymous terms representing gender, race & citizenship.<br>\n",
    "     \n",
    "Considering the `clinical_data.csv` had 3400 patients' clinical data, the `demographics.csv` only has demogrpahic data for 88% of these patients. \n",
    "\n",
    "---\n",
    "I will clean the datasets for our analysis later on."
   ]
  },
  {
   "cell_type": "markdown",
   "metadata": {},
   "source": [
    "### (B) Clean the datasets\n",
    "`bill_amt` dataset does not require any cleaning.<br>\n",
    "`bill_id_df` dataset column `date_of_admission` needs to be changed to datetime object.<br>\n",
    "`data` dataset column `medical_history_3` has string objects that needs to be changed to binary & dates to be changed to datetime objects.<br>\n",
    "`demographic` dataset column for gender, race and citizenship needs to be changed for consistency & dates to be changed to datetime objects.<br>\n",
    "\n",
    "---\n",
    "B1 - Clean `bill_id_df`"
   ]
  },
  {
   "cell_type": "code",
   "execution_count": 58,
   "metadata": {},
   "outputs": [],
   "source": [
    "bill_id_df['date_of_admission'] = pd.to_datetime(bill_id_df.date_of_admission)"
   ]
  },
  {
   "cell_type": "code",
   "execution_count": 61,
   "metadata": {},
   "outputs": [
    {
     "name": "stdout",
     "output_type": "stream",
     "text": [
      "<class 'pandas.core.frame.DataFrame'>\n",
      "RangeIndex: 13600 entries, 0 to 13599\n",
      "Data columns (total 3 columns):\n",
      "bill_id              13600 non-null int64\n",
      "patient_id           13600 non-null object\n",
      "date_of_admission    13600 non-null datetime64[ns]\n",
      "dtypes: datetime64[ns](1), int64(1), object(1)\n",
      "memory usage: 318.8+ KB\n"
     ]
    }
   ],
   "source": [
    "bill_id_df.info()"
   ]
  },
  {
   "cell_type": "markdown",
   "metadata": {},
   "source": [
    "\n",
    "---\n",
    "B2 - Clean `data`"
   ]
  },
  {
   "cell_type": "code",
   "execution_count": 54,
   "metadata": {},
   "outputs": [
    {
     "data": {
      "text/plain": [
       "array(['0', 'No', '1', 'Yes'], dtype=object)"
      ]
     },
     "execution_count": 54,
     "metadata": {},
     "output_type": "execute_result"
    }
   ],
   "source": [
    "data.medical_history_3.unique()"
   ]
  },
  {
   "cell_type": "code",
   "execution_count": null,
   "metadata": {},
   "outputs": [],
   "source": []
  },
  {
   "cell_type": "markdown",
   "metadata": {},
   "source": [
    "\n",
    "---\n",
    "B2 - Clean `demographic`"
   ]
  },
  {
   "cell_type": "code",
   "execution_count": 51,
   "metadata": {},
   "outputs": [
    {
     "data": {
      "text/plain": [
       "array(['Indian', 'Chinese', 'Malay', 'chinese', 'India', 'Others'],\n",
       "      dtype=object)"
      ]
     },
     "execution_count": 51,
     "metadata": {},
     "output_type": "execute_result"
    }
   ],
   "source": [
    "demographic.race.unique()"
   ]
  },
  {
   "cell_type": "code",
   "execution_count": 52,
   "metadata": {},
   "outputs": [
    {
     "data": {
      "text/plain": [
       "array(['Singaporean', 'Singapore citizen', 'PR', 'Foreigner'],\n",
       "      dtype=object)"
      ]
     },
     "execution_count": 52,
     "metadata": {},
     "output_type": "execute_result"
    }
   ],
   "source": [
    "demographic.resident_status.unique()"
   ]
  },
  {
   "cell_type": "code",
   "execution_count": 53,
   "metadata": {},
   "outputs": [
    {
     "data": {
      "text/plain": [
       "array(['Female', 'f', 'Male', 'm'], dtype=object)"
      ]
     },
     "execution_count": 53,
     "metadata": {},
     "output_type": "execute_result"
    }
   ],
   "source": [
    "demographic.gender.unique()"
   ]
  },
  {
   "cell_type": "code",
   "execution_count": null,
   "metadata": {},
   "outputs": [],
   "source": []
  }
 ],
 "metadata": {
  "kernelspec": {
   "display_name": "Python 2",
   "language": "python",
   "name": "python2"
  },
  "language_info": {
   "codemirror_mode": {
    "name": "ipython",
    "version": 2
   },
   "file_extension": ".py",
   "mimetype": "text/x-python",
   "name": "python",
   "nbconvert_exporter": "python",
   "pygments_lexer": "ipython2",
   "version": "2.7.14"
  }
 },
 "nbformat": 4,
 "nbformat_minor": 2
}
