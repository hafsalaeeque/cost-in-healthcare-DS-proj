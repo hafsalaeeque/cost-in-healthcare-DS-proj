{
 "cells": [
  {
   "cell_type": "markdown",
   "metadata": {},
   "source": [
    "\n",
    "# Data Analysis for cost of care in healthcare\n",
    "_by Hafsa Laeeque_\n",
    "\n",
    "---\n",
    "The task is to<br>\n",
    "  > 1) *analyze the clinical and financial data* of patients hospitalized for a _certain condition_.<br>\n",
    "    2) join data given in the different tables.<br>\n",
    "    3) find insights about drivers of cost of care.<br>\n",
    "    4) document _approach, results and insights_ using [slides](https://docs.google.com/presentation/d/1-gYni51iGkYh4OCCr-BYKAV3YqUH4OzQOUAtz5MkrEg/edit?usp=sharing) and a [document](https://docs.google.com/document/d/1fQB0AP2ue_zKVUUAHx_1sJ626okOMtm_IdLOnw-9__A/edit?usp=sharing), both of which should have a similar narrative.<br>\n",
    "\n",
    "---\n",
    "There are 4 excel files in the [datasets](https://github.com/hafsalaeeque/cost-in-healthcare-DS-proj/tree/master/datasets) folder which I will be using for my analysis."
   ]
  },
  {
   "cell_type": "code",
   "execution_count": null,
   "metadata": {},
   "outputs": [],
   "source": []
  }
 ],
 "metadata": {
  "kernelspec": {
   "display_name": "Python 2",
   "language": "python",
   "name": "python2"
  },
  "language_info": {
   "codemirror_mode": {
    "name": "ipython",
    "version": 2
   },
   "file_extension": ".py",
   "mimetype": "text/x-python",
   "name": "python",
   "nbconvert_exporter": "python",
   "pygments_lexer": "ipython2",
   "version": "2.7.14"
  }
 },
 "nbformat": 4,
 "nbformat_minor": 2
}
