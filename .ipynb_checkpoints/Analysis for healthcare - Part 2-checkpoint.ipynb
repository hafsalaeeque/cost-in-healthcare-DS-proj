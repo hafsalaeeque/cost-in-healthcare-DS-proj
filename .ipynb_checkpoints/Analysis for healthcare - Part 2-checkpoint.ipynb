{
 "cells": [
  {
   "cell_type": "markdown",
   "metadata": {},
   "source": [
    "\n",
    "# Data Analysis for cost of care in healthcare\n",
    "_by Hafsa Laeeque_\n",
    "\n",
    "---\n",
    "The task is to<br>\n",
    "  > 1) analyze the **clinical and financial data** of patients hospitalized for a _certain condition_.<br>\n",
    "    ~~2) join data given in the different tables.~~<br>\n",
    "    3) find insights about **drivers of cost of care**.<br>\n",
    "    4) document _approach, results and insights_ using [slides](https://docs.google.com/presentation/d/1-gYni51iGkYh4OCCr-BYKAV3YqUH4OzQOUAtz5MkrEg/edit?usp=sharing) and a [document](https://docs.google.com/document/d/1fQB0AP2ue_zKVUUAHx_1sJ626okOMtm_IdLOnw-9__A/edit?usp=sharing), both of which should have a similar narrative.<br>\n",
    "\n",
    "---\n",
    "We have cleaned and combined our data in [part 1](https://github.com/hafsalaeeque/cost-in-healthcare-DS-proj/blob/master/Analysis%20for%20healthcare%20-%20Part%201.ipynb).<br>\n",
    "There are 2 types of dataset:\n",
    "    - `bill_per_patient`, it has 3000 patients' bill along with their personal details,\n",
    "    - `patient`, it has 3400 entries of 3000 patients' hospital admission dates along with their personal details & medical reports.\n",
    "    \n",
    "Based on the data, we will assume that for each time a patient was admitted, his weight,length of stay in hospital and health conditions were different and therefore, it accounts for the difference in amount billed for each admission. Thus, we will treat each entry in the `patient` as unique.<br>\n",
    "\n",
    "We will also study `bill_per_patient` to understand if personal factors like age, gender, ethnicity group and citizenship affects cost of bill.\n"
   ]
  },
  {
   "cell_type": "markdown",
   "metadata": {},
   "source": [
    "## Analysing the datasets\n",
    "### Import packages"
   ]
  },
  {
   "cell_type": "code",
   "execution_count": 30,
   "metadata": {},
   "outputs": [],
   "source": [
    "import pandas as pd\n",
    "import matplotlib.pyplot as plt\n",
    "import numpy as np\n",
    "import seaborn as sns\n",
    "from datetime import datetime, timedelta \n",
    "%matplotlib inline\n",
    "plt.style.use('fivethirtyeight')\n",
    "\n",
    "import warnings\n",
    "warnings.filterwarnings(\"ignore\")"
   ]
  },
  {
   "cell_type": "code",
   "execution_count": 3,
   "metadata": {},
   "outputs": [],
   "source": [
    "#display columns and rows\n",
    "pd.options.display.max_columns = 50\n",
    "pd.options.display.max_rows = 4000"
   ]
  },
  {
   "cell_type": "markdown",
   "metadata": {},
   "source": [
    "### (A) Load the datasets\n",
    "A1 - Let's load the first dataset `bill_per_patient.csv`."
   ]
  },
  {
   "cell_type": "code",
   "execution_count": 20,
   "metadata": {},
   "outputs": [],
   "source": [
    "df_bill = pd.read_csv('clean_datasets/bill_per_patient.csv')"
   ]
  },
  {
   "cell_type": "code",
   "execution_count": 22,
   "metadata": {},
   "outputs": [],
   "source": [
    "df_bill.drop(['Unnamed: 0'], axis=1, inplace =True)"
   ]
  },
  {
   "cell_type": "code",
   "execution_count": 23,
   "metadata": {},
   "outputs": [
    {
     "data": {
      "text/html": [
       "<div>\n",
       "<style scoped>\n",
       "    .dataframe tbody tr th:only-of-type {\n",
       "        vertical-align: middle;\n",
       "    }\n",
       "\n",
       "    .dataframe tbody tr th {\n",
       "        vertical-align: top;\n",
       "    }\n",
       "\n",
       "    .dataframe thead th {\n",
       "        text-align: right;\n",
       "    }\n",
       "</style>\n",
       "<table border=\"1\" class=\"dataframe\">\n",
       "  <thead>\n",
       "    <tr style=\"text-align: right;\">\n",
       "      <th></th>\n",
       "      <th>patient_id</th>\n",
       "      <th>gender</th>\n",
       "      <th>race</th>\n",
       "      <th>resident_status</th>\n",
       "      <th>date_of_birth</th>\n",
       "      <th>amount</th>\n",
       "      <th>age</th>\n",
       "    </tr>\n",
       "  </thead>\n",
       "  <tbody>\n",
       "    <tr>\n",
       "      <th>0</th>\n",
       "      <td>fa2d818b2261e44e30628ad1ac9cc72c</td>\n",
       "      <td>Female</td>\n",
       "      <td>Indian</td>\n",
       "      <td>Singaporean</td>\n",
       "      <td>1971-05-14</td>\n",
       "      <td>19564.166266</td>\n",
       "      <td>47.0</td>\n",
       "    </tr>\n",
       "    <tr>\n",
       "      <th>1</th>\n",
       "      <td>5b6477c5de78d0b138e3b0c18e21d0ae</td>\n",
       "      <td>Female</td>\n",
       "      <td>Chinese</td>\n",
       "      <td>Singaporean</td>\n",
       "      <td>1976-02-18</td>\n",
       "      <td>20465.398960</td>\n",
       "      <td>42.0</td>\n",
       "    </tr>\n",
       "    <tr>\n",
       "      <th>2</th>\n",
       "      <td>320aa16c61937447fd6631bf635e7fde</td>\n",
       "      <td>Male</td>\n",
       "      <td>Chinese</td>\n",
       "      <td>Singaporean</td>\n",
       "      <td>1982-07-03</td>\n",
       "      <td>21014.300917</td>\n",
       "      <td>36.0</td>\n",
       "    </tr>\n",
       "    <tr>\n",
       "      <th>3</th>\n",
       "      <td>c7f3881684045e6c49020481020fae36</td>\n",
       "      <td>Male</td>\n",
       "      <td>Malay</td>\n",
       "      <td>Singaporean</td>\n",
       "      <td>1947-06-15</td>\n",
       "      <td>45452.313094</td>\n",
       "      <td>71.0</td>\n",
       "    </tr>\n",
       "    <tr>\n",
       "      <th>4</th>\n",
       "      <td>541ad077cb4a0e64cc422673afe28aef</td>\n",
       "      <td>Male</td>\n",
       "      <td>Chinese</td>\n",
       "      <td>Singaporean</td>\n",
       "      <td>1970-12-12</td>\n",
       "      <td>22511.346126</td>\n",
       "      <td>47.0</td>\n",
       "    </tr>\n",
       "  </tbody>\n",
       "</table>\n",
       "</div>"
      ],
      "text/plain": [
       "                         patient_id  gender     race resident_status  \\\n",
       "0  fa2d818b2261e44e30628ad1ac9cc72c  Female   Indian     Singaporean   \n",
       "1  5b6477c5de78d0b138e3b0c18e21d0ae  Female  Chinese     Singaporean   \n",
       "2  320aa16c61937447fd6631bf635e7fde    Male  Chinese     Singaporean   \n",
       "3  c7f3881684045e6c49020481020fae36    Male    Malay     Singaporean   \n",
       "4  541ad077cb4a0e64cc422673afe28aef    Male  Chinese     Singaporean   \n",
       "\n",
       "  date_of_birth        amount   age  \n",
       "0    1971-05-14  19564.166266  47.0  \n",
       "1    1976-02-18  20465.398960  42.0  \n",
       "2    1982-07-03  21014.300917  36.0  \n",
       "3    1947-06-15  45452.313094  71.0  \n",
       "4    1970-12-12  22511.346126  47.0  "
      ]
     },
     "execution_count": 23,
     "metadata": {},
     "output_type": "execute_result"
    }
   ],
   "source": [
    "df_bill.head()"
   ]
  },
  {
   "cell_type": "code",
   "execution_count": 25,
   "metadata": {},
   "outputs": [
    {
     "data": {
      "text/html": [
       "<div>\n",
       "<style scoped>\n",
       "    .dataframe tbody tr th:only-of-type {\n",
       "        vertical-align: middle;\n",
       "    }\n",
       "\n",
       "    .dataframe tbody tr th {\n",
       "        vertical-align: top;\n",
       "    }\n",
       "\n",
       "    .dataframe thead th {\n",
       "        text-align: right;\n",
       "    }\n",
       "</style>\n",
       "<table border=\"1\" class=\"dataframe\">\n",
       "  <thead>\n",
       "    <tr style=\"text-align: right;\">\n",
       "      <th></th>\n",
       "      <th>patient_id</th>\n",
       "      <th>gender</th>\n",
       "      <th>race</th>\n",
       "      <th>resident_status</th>\n",
       "      <th>date_of_birth</th>\n",
       "      <th>amount</th>\n",
       "      <th>age</th>\n",
       "    </tr>\n",
       "  </thead>\n",
       "  <tbody>\n",
       "    <tr>\n",
       "      <th>count</th>\n",
       "      <td>3000</td>\n",
       "      <td>3000</td>\n",
       "      <td>3000</td>\n",
       "      <td>3000</td>\n",
       "      <td>3000</td>\n",
       "      <td>3000.000000</td>\n",
       "      <td>3000.000000</td>\n",
       "    </tr>\n",
       "    <tr>\n",
       "      <th>unique</th>\n",
       "      <td>3000</td>\n",
       "      <td>2</td>\n",
       "      <td>4</td>\n",
       "      <td>3</td>\n",
       "      <td>2746</td>\n",
       "      <td>NaN</td>\n",
       "      <td>NaN</td>\n",
       "    </tr>\n",
       "    <tr>\n",
       "      <th>top</th>\n",
       "      <td>582701da165f01280a2cdd1d047c08c6</td>\n",
       "      <td>Male</td>\n",
       "      <td>Chinese</td>\n",
       "      <td>Singaporean</td>\n",
       "      <td>1975-08-20</td>\n",
       "      <td>NaN</td>\n",
       "      <td>NaN</td>\n",
       "    </tr>\n",
       "    <tr>\n",
       "      <th>freq</th>\n",
       "      <td>1</td>\n",
       "      <td>1503</td>\n",
       "      <td>1915</td>\n",
       "      <td>2392</td>\n",
       "      <td>4</td>\n",
       "      <td>NaN</td>\n",
       "      <td>NaN</td>\n",
       "    </tr>\n",
       "    <tr>\n",
       "      <th>mean</th>\n",
       "      <td>NaN</td>\n",
       "      <td>NaN</td>\n",
       "      <td>NaN</td>\n",
       "      <td>NaN</td>\n",
       "      <td>NaN</td>\n",
       "      <td>24773.613948</td>\n",
       "      <td>57.193667</td>\n",
       "    </tr>\n",
       "    <tr>\n",
       "      <th>std</th>\n",
       "      <td>NaN</td>\n",
       "      <td>NaN</td>\n",
       "      <td>NaN</td>\n",
       "      <td>NaN</td>\n",
       "      <td>NaN</td>\n",
       "      <td>13846.477234</td>\n",
       "      <td>14.599722</td>\n",
       "    </tr>\n",
       "    <tr>\n",
       "      <th>min</th>\n",
       "      <td>NaN</td>\n",
       "      <td>NaN</td>\n",
       "      <td>NaN</td>\n",
       "      <td>NaN</td>\n",
       "      <td>NaN</td>\n",
       "      <td>2946.100354</td>\n",
       "      <td>27.000000</td>\n",
       "    </tr>\n",
       "    <tr>\n",
       "      <th>25%</th>\n",
       "      <td>NaN</td>\n",
       "      <td>NaN</td>\n",
       "      <td>NaN</td>\n",
       "      <td>NaN</td>\n",
       "      <td>NaN</td>\n",
       "      <td>15612.050486</td>\n",
       "      <td>45.000000</td>\n",
       "    </tr>\n",
       "    <tr>\n",
       "      <th>50%</th>\n",
       "      <td>NaN</td>\n",
       "      <td>NaN</td>\n",
       "      <td>NaN</td>\n",
       "      <td>NaN</td>\n",
       "      <td>NaN</td>\n",
       "      <td>21815.197138</td>\n",
       "      <td>55.000000</td>\n",
       "    </tr>\n",
       "    <tr>\n",
       "      <th>75%</th>\n",
       "      <td>NaN</td>\n",
       "      <td>NaN</td>\n",
       "      <td>NaN</td>\n",
       "      <td>NaN</td>\n",
       "      <td>NaN</td>\n",
       "      <td>29985.749788</td>\n",
       "      <td>70.000000</td>\n",
       "    </tr>\n",
       "    <tr>\n",
       "      <th>max</th>\n",
       "      <td>NaN</td>\n",
       "      <td>NaN</td>\n",
       "      <td>NaN</td>\n",
       "      <td>NaN</td>\n",
       "      <td>NaN</td>\n",
       "      <td>167641.308465</td>\n",
       "      <td>88.000000</td>\n",
       "    </tr>\n",
       "  </tbody>\n",
       "</table>\n",
       "</div>"
      ],
      "text/plain": [
       "                              patient_id gender     race resident_status  \\\n",
       "count                               3000   3000     3000            3000   \n",
       "unique                              3000      2        4               3   \n",
       "top     582701da165f01280a2cdd1d047c08c6   Male  Chinese     Singaporean   \n",
       "freq                                   1   1503     1915            2392   \n",
       "mean                                 NaN    NaN      NaN             NaN   \n",
       "std                                  NaN    NaN      NaN             NaN   \n",
       "min                                  NaN    NaN      NaN             NaN   \n",
       "25%                                  NaN    NaN      NaN             NaN   \n",
       "50%                                  NaN    NaN      NaN             NaN   \n",
       "75%                                  NaN    NaN      NaN             NaN   \n",
       "max                                  NaN    NaN      NaN             NaN   \n",
       "\n",
       "       date_of_birth         amount          age  \n",
       "count           3000    3000.000000  3000.000000  \n",
       "unique          2746            NaN          NaN  \n",
       "top       1975-08-20            NaN          NaN  \n",
       "freq               4            NaN          NaN  \n",
       "mean             NaN   24773.613948    57.193667  \n",
       "std              NaN   13846.477234    14.599722  \n",
       "min              NaN    2946.100354    27.000000  \n",
       "25%              NaN   15612.050486    45.000000  \n",
       "50%              NaN   21815.197138    55.000000  \n",
       "75%              NaN   29985.749788    70.000000  \n",
       "max              NaN  167641.308465    88.000000  "
      ]
     },
     "execution_count": 25,
     "metadata": {},
     "output_type": "execute_result"
    }
   ],
   "source": [
    "df_bill.describe(include = 'all')"
   ]
  },
  {
   "cell_type": "code",
   "execution_count": 51,
   "metadata": {},
   "outputs": [
    {
     "data": {
      "text/plain": [
       "<matplotlib.axes._subplots.AxesSubplot at 0x10b845c0>"
      ]
     },
     "execution_count": 51,
     "metadata": {},
     "output_type": "execute_result"
    },
    {
     "data": {
      "image/png": "[encoded data removed]",
      "text/plain": [
       "<matplotlib.figure.Figure at 0x10b84630>"
      ]
     },
     "metadata": {},
     "output_type": "display_data"
    }
   ],
   "source": [
    "plt.figure(figsize=(10,5))\n",
    "plt.xlabel('bill incurred')\n",
    "plt.ylabel('frequency')\n",
    "plt.title('Distribution of cost incurred for X condition')\n",
    "sns.distplot(df['amount'], bins = 100, kde = True, color ='b')"
   ]
  },
  {
   "cell_type": "code",
   "execution_count": 50,
   "metadata": {},
   "outputs": [
    {
     "name": "stdout",
     "output_type": "stream",
     "text": [
      "21859.0712559\n",
      "20180.02\n"
     ]
    }
   ],
   "source": [
    "print df.amount.mean()\n",
    "print df.amount.median()"
   ]
  },
  {
   "cell_type": "markdown",
   "metadata": {},
   "source": [
    "The distribution graph is right-skewed, therefore the mean (average of patients) of the bill paid is higher than the median (average of 2 middle values)."
   ]
  },
  {
   "cell_type": "code",
   "execution_count": 44,
   "metadata": {},
   "outputs": [
    {
     "data": {
      "text/plain": [
       "<matplotlib.axes._subplots.AxesSubplot at 0x100b8048>"
      ]
     },
     "execution_count": 44,
     "metadata": {},
     "output_type": "execute_result"
    },
    {
     "data": {
      "image/png": "[encoded data removed]",
      "text/plain": [
       "<matplotlib.figure.Figure at 0xffdf780>"
      ]
     },
     "metadata": {},
     "output_type": "display_data"
    }
   ],
   "source": [
    "plt.figure(figsize=(5, 10))\n",
    "sns.boxplot(data=df.amount)"
   ]
  },
  {
   "cell_type": "code",
   "execution_count": 52,
   "metadata": {},
   "outputs": [
    {
     "data": {
      "text/plain": [
       "<matplotlib.axes._subplots.AxesSubplot at 0x10b84fd0>"
      ]
     },
     "execution_count": 52,
     "metadata": {},
     "output_type": "execute_result"
    },
    {
     "data": {
      "image/png": "[encoded data removed]",
      "text/plain": [
       "<matplotlib.figure.Figure at 0x10b84ef0>"
      ]
     },
     "metadata": {},
     "output_type": "display_data"
    }
   ],
   "source": [
    "plt.figure(figsize=(10,5))\n",
    "\n",
    "sns.distplot(df['age'], bins = 60, kde = True, color ='b')"
   ]
  },
  {
   "cell_type": "code",
   "execution_count": 60,
   "metadata": {
    "scrolled": true
   },
   "outputs": [
    {
     "name": "stdout",
     "output_type": "stream",
     "text": [
      "57.2311764706\n",
      "43.0    124\n",
      "45.0    111\n",
      "44.0    104\n",
      "46.0    101\n",
      "48.0     93\n",
      "41.0     91\n",
      "65.0     89\n",
      "39.0     84\n",
      "47.0     83\n",
      "36.0     83\n",
      "Name: age, dtype: int64\n",
      "86.0    17\n",
      "87.0    13\n",
      "33.0    10\n",
      "32.0     8\n",
      "88.0     3\n",
      "28.0     2\n",
      "31.0     2\n",
      "27.0     1\n",
      "29.0     1\n",
      "30.0     1\n",
      "Name: age, dtype: int64\n"
     ]
    }
   ],
   "source": [
    "print df.age.mean()\n",
    "print df.age.value_counts().head(10)\n",
    "\n",
    "print df.age.value_counts().tail(10)"
   ]
  },
  {
   "cell_type": "markdown",
   "metadata": {},
   "source": [
    "The age is slightly right-skewed. Most of the patients are in their mid-forties while a few of them are affected in their late eighties and their late twenties to early thirties. "
   ]
  },
  {
   "cell_type": "code",
   "execution_count": 75,
   "metadata": {},
   "outputs": [
    {
     "data": {
      "text/plain": [
       "<matplotlib.axes._subplots.AxesSubplot at 0x134d51d0>"
      ]
     },
     "execution_count": 75,
     "metadata": {},
     "output_type": "execute_result"
    },
    {
     "data": {
      "image/png": "[encoded data removed]",
      "text/plain": [
       "<matplotlib.figure.Figure at 0x134d5208>"
      ]
     },
     "metadata": {},
     "output_type": "display_data"
    }
   ],
   "source": [
    "plt.figure(figsize=(5,6))\n",
    "plt.xlabel('resident status of patients')\n",
    "plt.ylabel('count')\n",
    "plt.title('Count of resident status of patients')\n",
    "sns.countplot(df['resident_status'], hue = df.resident_status)"
   ]
  },
  {
   "cell_type": "code",
   "execution_count": null,
   "metadata": {},
   "outputs": [],
   "source": []
  },
  {
   "cell_type": "code",
   "execution_count": 77,
   "metadata": {},
   "outputs": [
    {
     "data": {
      "text/plain": [
       "<matplotlib.axes._subplots.AxesSubplot at 0x13766080>"
      ]
     },
     "execution_count": 77,
     "metadata": {},
     "output_type": "execute_result"
    },
    {
     "data": {
      "image/png": "[encoded data removed]",
      "text/plain": [
       "<matplotlib.figure.Figure at 0x13766ba8>"
      ]
     },
     "metadata": {},
     "output_type": "display_data"
    }
   ],
   "source": [
    "plt.figure(figsize=(10,6))\n",
    "plt.xlabel('ethnicity of patients')\n",
    "plt.ylabel('count')\n",
    "plt.title('Count of patients ethnicity')\n",
    "sns.countplot(df['race'], hue = df.race)"
   ]
  },
  {
   "cell_type": "code",
   "execution_count": 78,
   "metadata": {},
   "outputs": [
    {
     "data": {
      "text/plain": [
       "Chinese    2166\n",
       "Malay       707\n",
       "Indian      344\n",
       "Others      183\n",
       "Name: race, dtype: int64"
      ]
     },
     "execution_count": 78,
     "metadata": {},
     "output_type": "execute_result"
    }
   ],
   "source": [
    "df.race.value_counts()"
   ]
  },
  {
   "cell_type": "code",
   "execution_count": 82,
   "metadata": {},
   "outputs": [
    {
     "data": {
      "text/plain": [
       "<matplotlib.axes._subplots.AxesSubplot at 0x132c8b70>"
      ]
     },
     "execution_count": 82,
     "metadata": {},
     "output_type": "execute_result"
    },
    {
     "data": {
      "image/png": "[encoded data removed]",
      "text/plain": [
       "<matplotlib.figure.Figure at 0x132c8198>"
      ]
     },
     "metadata": {},
     "output_type": "display_data"
    }
   ],
   "source": [
    "plt.figure(figsize=(5,4))\n",
    "plt.xlabel('gender')\n",
    "plt.ylabel('count')\n",
    "plt.title('Count of patients gender')\n",
    "sns.countplot(df['gender'], hue = df.gender)"
   ]
  },
  {
   "cell_type": "code",
   "execution_count": 83,
   "metadata": {},
   "outputs": [
    {
     "data": {
      "text/plain": [
       "Female    1702\n",
       "Male      1698\n",
       "Name: gender, dtype: int64"
      ]
     },
     "execution_count": 83,
     "metadata": {},
     "output_type": "execute_result"
    }
   ],
   "source": [
    "df.gender.value_counts()"
   ]
  },
  {
   "cell_type": "markdown",
   "metadata": {},
   "source": [
    "\n",
    "\n",
    "---\n",
    "A2 - Let's load the second dataset `patients.csv`."
   ]
  },
  {
   "cell_type": "code",
   "execution_count": 17,
   "metadata": {},
   "outputs": [],
   "source": [
    "df = pd.read_csv('clean_datasets/patients.csv')"
   ]
  },
  {
   "cell_type": "code",
   "execution_count": 18,
   "metadata": {},
   "outputs": [
    {
     "data": {
      "text/plain": [
       "(3400, 35)"
      ]
     },
     "execution_count": 18,
     "metadata": {},
     "output_type": "execute_result"
    }
   ],
   "source": [
    "df.shape"
   ]
  },
  {
   "cell_type": "code",
   "execution_count": 19,
   "metadata": {
    "scrolled": true
   },
   "outputs": [
    {
     "name": "stdout",
     "output_type": "stream",
     "text": [
      "<class 'pandas.core.frame.DataFrame'>\n",
      "RangeIndex: 3400 entries, 0 to 3399\n",
      "Data columns (total 35 columns):\n",
      "Unnamed: 0            3400 non-null int64\n",
      "patient_id            3400 non-null object\n",
      "gender                3400 non-null object\n",
      "race                  3400 non-null object\n",
      "resident_status       3400 non-null object\n",
      "date_of_birth         3400 non-null object\n",
      "date_of_admission     3400 non-null object\n",
      "date_of_discharge     3400 non-null object\n",
      "medical_history_1     3400 non-null int64\n",
      "medical_history_2     3167 non-null float64\n",
      "medical_history_3     3400 non-null float64\n",
      "medical_history_4     3400 non-null int64\n",
      "medical_history_5     3096 non-null float64\n",
      "medical_history_6     3400 non-null int64\n",
      "medical_history_7     3400 non-null int64\n",
      "preop_medication_1    3400 non-null int64\n",
      "preop_medication_2    3400 non-null int64\n",
      "preop_medication_3    3400 non-null int64\n",
      "preop_medication_4    3400 non-null int64\n",
      "preop_medication_5    3400 non-null int64\n",
      "preop_medication_6    3400 non-null int64\n",
      "symptom_1             3400 non-null int64\n",
      "symptom_2             3400 non-null int64\n",
      "symptom_3             3400 non-null int64\n",
      "symptom_4             3400 non-null int64\n",
      "symptom_5             3400 non-null int64\n",
      "lab_result_1          3400 non-null float64\n",
      "lab_result_2          3400 non-null float64\n",
      "lab_result_3          3400 non-null float64\n",
      "weight                3400 non-null float64\n",
      "height                3400 non-null float64\n",
      "freq                  3400 non-null int64\n",
      "days_admitted         3400 non-null object\n",
      "age                   3400 non-null float64\n",
      "amount                3400 non-null float64\n",
      "dtypes: float64(10), int64(17), object(8)\n",
      "memory usage: 929.8+ KB\n"
     ]
    }
   ],
   "source": [
    "df.info()"
   ]
  },
  {
   "cell_type": "code",
   "execution_count": 7,
   "metadata": {},
   "outputs": [
    {
     "data": {
      "text/html": [
       "<div>\n",
       "<style scoped>\n",
       "    .dataframe tbody tr th:only-of-type {\n",
       "        vertical-align: middle;\n",
       "    }\n",
       "\n",
       "    .dataframe tbody tr th {\n",
       "        vertical-align: top;\n",
       "    }\n",
       "\n",
       "    .dataframe thead th {\n",
       "        text-align: right;\n",
       "    }\n",
       "</style>\n",
       "<table border=\"1\" class=\"dataframe\">\n",
       "  <thead>\n",
       "    <tr style=\"text-align: right;\">\n",
       "      <th></th>\n",
       "      <th>Unnamed: 0</th>\n",
       "      <th>patient_id</th>\n",
       "      <th>gender</th>\n",
       "      <th>race</th>\n",
       "      <th>resident_status</th>\n",
       "      <th>date_of_birth</th>\n",
       "      <th>date_of_admission</th>\n",
       "      <th>date_of_discharge</th>\n",
       "      <th>medical_history_1</th>\n",
       "      <th>medical_history_2</th>\n",
       "      <th>medical_history_3</th>\n",
       "      <th>medical_history_4</th>\n",
       "      <th>medical_history_5</th>\n",
       "      <th>medical_history_6</th>\n",
       "      <th>medical_history_7</th>\n",
       "      <th>preop_medication_1</th>\n",
       "      <th>preop_medication_2</th>\n",
       "      <th>preop_medication_3</th>\n",
       "      <th>preop_medication_4</th>\n",
       "      <th>preop_medication_5</th>\n",
       "      <th>preop_medication_6</th>\n",
       "      <th>symptom_1</th>\n",
       "      <th>symptom_2</th>\n",
       "      <th>symptom_3</th>\n",
       "      <th>symptom_4</th>\n",
       "      <th>symptom_5</th>\n",
       "      <th>lab_result_1</th>\n",
       "      <th>lab_result_2</th>\n",
       "      <th>lab_result_3</th>\n",
       "      <th>weight</th>\n",
       "      <th>height</th>\n",
       "      <th>freq</th>\n",
       "      <th>days_admitted</th>\n",
       "      <th>age</th>\n",
       "      <th>amount</th>\n",
       "    </tr>\n",
       "  </thead>\n",
       "  <tbody>\n",
       "    <tr>\n",
       "      <th>0</th>\n",
       "      <td>0</td>\n",
       "      <td>fa2d818b2261e44e30628ad1ac9cc72c</td>\n",
       "      <td>Female</td>\n",
       "      <td>Indian</td>\n",
       "      <td>Singaporean</td>\n",
       "      <td>1971-05-14</td>\n",
       "      <td>2014-09-20</td>\n",
       "      <td>2014-10-04</td>\n",
       "      <td>0</td>\n",
       "      <td>0.0</td>\n",
       "      <td>0.0</td>\n",
       "      <td>0</td>\n",
       "      <td>0.0</td>\n",
       "      <td>0</td>\n",
       "      <td>1</td>\n",
       "      <td>1</td>\n",
       "      <td>0</td>\n",
       "      <td>1</td>\n",
       "      <td>0</td>\n",
       "      <td>1</td>\n",
       "      <td>1</td>\n",
       "      <td>1</td>\n",
       "      <td>1</td>\n",
       "      <td>0</td>\n",
       "      <td>0</td>\n",
       "      <td>1</td>\n",
       "      <td>14.2</td>\n",
       "      <td>27.0</td>\n",
       "      <td>81.0</td>\n",
       "      <td>68.1</td>\n",
       "      <td>161.0</td>\n",
       "      <td>1</td>\n",
       "      <td>14 days 00:00:00.000000000</td>\n",
       "      <td>47.0</td>\n",
       "      <td>19564.17</td>\n",
       "    </tr>\n",
       "    <tr>\n",
       "      <th>1</th>\n",
       "      <td>1</td>\n",
       "      <td>5b6477c5de78d0b138e3b0c18e21d0ae</td>\n",
       "      <td>Female</td>\n",
       "      <td>Chinese</td>\n",
       "      <td>Singaporean</td>\n",
       "      <td>1976-02-18</td>\n",
       "      <td>2014-08-08</td>\n",
       "      <td>2014-08-18</td>\n",
       "      <td>0</td>\n",
       "      <td>0.0</td>\n",
       "      <td>0.0</td>\n",
       "      <td>0</td>\n",
       "      <td>NaN</td>\n",
       "      <td>0</td>\n",
       "      <td>1</td>\n",
       "      <td>0</td>\n",
       "      <td>0</td>\n",
       "      <td>0</td>\n",
       "      <td>1</td>\n",
       "      <td>1</td>\n",
       "      <td>1</td>\n",
       "      <td>1</td>\n",
       "      <td>1</td>\n",
       "      <td>1</td>\n",
       "      <td>1</td>\n",
       "      <td>1</td>\n",
       "      <td>14.3</td>\n",
       "      <td>27.2</td>\n",
       "      <td>92.0</td>\n",
       "      <td>76.5</td>\n",
       "      <td>151.0</td>\n",
       "      <td>1</td>\n",
       "      <td>10 days 00:00:00.000000000</td>\n",
       "      <td>42.0</td>\n",
       "      <td>20465.40</td>\n",
       "    </tr>\n",
       "    <tr>\n",
       "      <th>2</th>\n",
       "      <td>2</td>\n",
       "      <td>320aa16c61937447fd6631bf635e7fde</td>\n",
       "      <td>Male</td>\n",
       "      <td>Chinese</td>\n",
       "      <td>Singaporean</td>\n",
       "      <td>1982-07-03</td>\n",
       "      <td>2011-03-10</td>\n",
       "      <td>2011-03-20</td>\n",
       "      <td>0</td>\n",
       "      <td>0.0</td>\n",
       "      <td>0.0</td>\n",
       "      <td>0</td>\n",
       "      <td>0.0</td>\n",
       "      <td>1</td>\n",
       "      <td>0</td>\n",
       "      <td>0</td>\n",
       "      <td>1</td>\n",
       "      <td>1</td>\n",
       "      <td>1</td>\n",
       "      <td>1</td>\n",
       "      <td>0</td>\n",
       "      <td>0</td>\n",
       "      <td>0</td>\n",
       "      <td>1</td>\n",
       "      <td>1</td>\n",
       "      <td>1</td>\n",
       "      <td>14.4</td>\n",
       "      <td>26.6</td>\n",
       "      <td>92.0</td>\n",
       "      <td>69.7</td>\n",
       "      <td>175.0</td>\n",
       "      <td>2</td>\n",
       "      <td>10 days 00:00:00.000000000</td>\n",
       "      <td>36.0</td>\n",
       "      <td>14435.91</td>\n",
       "    </tr>\n",
       "    <tr>\n",
       "      <th>3</th>\n",
       "      <td>3</td>\n",
       "      <td>320aa16c61937447fd6631bf635e7fde</td>\n",
       "      <td>Male</td>\n",
       "      <td>Chinese</td>\n",
       "      <td>Singaporean</td>\n",
       "      <td>1982-07-03</td>\n",
       "      <td>2013-07-02</td>\n",
       "      <td>2013-07-14</td>\n",
       "      <td>0</td>\n",
       "      <td>0.0</td>\n",
       "      <td>0.0</td>\n",
       "      <td>1</td>\n",
       "      <td>NaN</td>\n",
       "      <td>0</td>\n",
       "      <td>0</td>\n",
       "      <td>1</td>\n",
       "      <td>1</td>\n",
       "      <td>0</td>\n",
       "      <td>1</td>\n",
       "      <td>0</td>\n",
       "      <td>1</td>\n",
       "      <td>1</td>\n",
       "      <td>0</td>\n",
       "      <td>0</td>\n",
       "      <td>1</td>\n",
       "      <td>0</td>\n",
       "      <td>18.0</td>\n",
       "      <td>26.6</td>\n",
       "      <td>92.0</td>\n",
       "      <td>66.7</td>\n",
       "      <td>175.0</td>\n",
       "      <td>2</td>\n",
       "      <td>12 days 00:00:00.000000000</td>\n",
       "      <td>36.0</td>\n",
       "      <td>6578.39</td>\n",
       "    </tr>\n",
       "    <tr>\n",
       "      <th>4</th>\n",
       "      <td>4</td>\n",
       "      <td>c7f3881684045e6c49020481020fae36</td>\n",
       "      <td>Male</td>\n",
       "      <td>Malay</td>\n",
       "      <td>Singaporean</td>\n",
       "      <td>1947-06-15</td>\n",
       "      <td>2015-10-28</td>\n",
       "      <td>2015-11-10</td>\n",
       "      <td>0</td>\n",
       "      <td>1.0</td>\n",
       "      <td>0.0</td>\n",
       "      <td>0</td>\n",
       "      <td>0.0</td>\n",
       "      <td>0</td>\n",
       "      <td>0</td>\n",
       "      <td>0</td>\n",
       "      <td>1</td>\n",
       "      <td>0</td>\n",
       "      <td>0</td>\n",
       "      <td>1</td>\n",
       "      <td>1</td>\n",
       "      <td>1</td>\n",
       "      <td>1</td>\n",
       "      <td>1</td>\n",
       "      <td>1</td>\n",
       "      <td>1</td>\n",
       "      <td>14.9</td>\n",
       "      <td>26.7</td>\n",
       "      <td>97.0</td>\n",
       "      <td>96.9</td>\n",
       "      <td>180.0</td>\n",
       "      <td>1</td>\n",
       "      <td>13 days 00:00:00.000000000</td>\n",
       "      <td>71.0</td>\n",
       "      <td>45452.31</td>\n",
       "    </tr>\n",
       "  </tbody>\n",
       "</table>\n",
       "</div>"
      ],
      "text/plain": [
       "   Unnamed: 0                        patient_id  gender     race  \\\n",
       "0           0  fa2d818b2261e44e30628ad1ac9cc72c  Female   Indian   \n",
       "1           1  5b6477c5de78d0b138e3b0c18e21d0ae  Female  Chinese   \n",
       "2           2  320aa16c61937447fd6631bf635e7fde    Male  Chinese   \n",
       "3           3  320aa16c61937447fd6631bf635e7fde    Male  Chinese   \n",
       "4           4  c7f3881684045e6c49020481020fae36    Male    Malay   \n",
       "\n",
       "  resident_status date_of_birth date_of_admission date_of_discharge  \\\n",
       "0     Singaporean    1971-05-14        2014-09-20        2014-10-04   \n",
       "1     Singaporean    1976-02-18        2014-08-08        2014-08-18   \n",
       "2     Singaporean    1982-07-03        2011-03-10        2011-03-20   \n",
       "3     Singaporean    1982-07-03        2013-07-02        2013-07-14   \n",
       "4     Singaporean    1947-06-15        2015-10-28        2015-11-10   \n",
       "\n",
       "   medical_history_1  medical_history_2  medical_history_3  medical_history_4  \\\n",
       "0                  0                0.0                0.0                  0   \n",
       "1                  0                0.0                0.0                  0   \n",
       "2                  0                0.0                0.0                  0   \n",
       "3                  0                0.0                0.0                  1   \n",
       "4                  0                1.0                0.0                  0   \n",
       "\n",
       "   medical_history_5  medical_history_6  medical_history_7  \\\n",
       "0                0.0                  0                  1   \n",
       "1                NaN                  0                  1   \n",
       "2                0.0                  1                  0   \n",
       "3                NaN                  0                  0   \n",
       "4                0.0                  0                  0   \n",
       "\n",
       "   preop_medication_1  preop_medication_2  preop_medication_3  \\\n",
       "0                   1                   0                   1   \n",
       "1                   0                   0                   0   \n",
       "2                   0                   1                   1   \n",
       "3                   1                   1                   0   \n",
       "4                   0                   1                   0   \n",
       "\n",
       "   preop_medication_4  preop_medication_5  preop_medication_6  symptom_1  \\\n",
       "0                   0                   1                   1          1   \n",
       "1                   1                   1                   1          1   \n",
       "2                   1                   1                   0          0   \n",
       "3                   1                   0                   1          1   \n",
       "4                   0                   1                   1          1   \n",
       "\n",
       "   symptom_2  symptom_3  symptom_4  symptom_5  lab_result_1  lab_result_2  \\\n",
       "0          1          0          0          1          14.2          27.0   \n",
       "1          1          1          1          1          14.3          27.2   \n",
       "2          0          1          1          1          14.4          26.6   \n",
       "3          0          0          1          0          18.0          26.6   \n",
       "4          1          1          1          1          14.9          26.7   \n",
       "\n",
       "   lab_result_3  weight  height  freq               days_admitted   age  \\\n",
       "0          81.0    68.1   161.0     1  14 days 00:00:00.000000000  47.0   \n",
       "1          92.0    76.5   151.0     1  10 days 00:00:00.000000000  42.0   \n",
       "2          92.0    69.7   175.0     2  10 days 00:00:00.000000000  36.0   \n",
       "3          92.0    66.7   175.0     2  12 days 00:00:00.000000000  36.0   \n",
       "4          97.0    96.9   180.0     1  13 days 00:00:00.000000000  71.0   \n",
       "\n",
       "     amount  \n",
       "0  19564.17  \n",
       "1  20465.40  \n",
       "2  14435.91  \n",
       "3   6578.39  \n",
       "4  45452.31  "
      ]
     },
     "execution_count": 7,
     "metadata": {},
     "output_type": "execute_result"
    }
   ],
   "source": [
    "df.head()"
   ]
  },
  {
   "cell_type": "code",
   "execution_count": 12,
   "metadata": {},
   "outputs": [],
   "source": [
    "df.drop(['Unnamed: 0'], axis=1, inplace =True)"
   ]
  },
  {
   "cell_type": "code",
   "execution_count": 13,
   "metadata": {},
   "outputs": [
    {
     "data": {
      "text/html": [
       "<div>\n",
       "<style scoped>\n",
       "    .dataframe tbody tr th:only-of-type {\n",
       "        vertical-align: middle;\n",
       "    }\n",
       "\n",
       "    .dataframe tbody tr th {\n",
       "        vertical-align: top;\n",
       "    }\n",
       "\n",
       "    .dataframe thead th {\n",
       "        text-align: right;\n",
       "    }\n",
       "</style>\n",
       "<table border=\"1\" class=\"dataframe\">\n",
       "  <thead>\n",
       "    <tr style=\"text-align: right;\">\n",
       "      <th></th>\n",
       "      <th>patient_id</th>\n",
       "      <th>gender</th>\n",
       "      <th>race</th>\n",
       "      <th>resident_status</th>\n",
       "      <th>date_of_birth</th>\n",
       "      <th>date_of_admission</th>\n",
       "      <th>date_of_discharge</th>\n",
       "      <th>medical_history_1</th>\n",
       "      <th>medical_history_2</th>\n",
       "      <th>medical_history_3</th>\n",
       "      <th>medical_history_4</th>\n",
       "      <th>medical_history_5</th>\n",
       "      <th>medical_history_6</th>\n",
       "      <th>medical_history_7</th>\n",
       "      <th>preop_medication_1</th>\n",
       "      <th>preop_medication_2</th>\n",
       "      <th>preop_medication_3</th>\n",
       "      <th>preop_medication_4</th>\n",
       "      <th>preop_medication_5</th>\n",
       "      <th>preop_medication_6</th>\n",
       "      <th>symptom_1</th>\n",
       "      <th>symptom_2</th>\n",
       "      <th>symptom_3</th>\n",
       "      <th>symptom_4</th>\n",
       "      <th>symptom_5</th>\n",
       "      <th>lab_result_1</th>\n",
       "      <th>lab_result_2</th>\n",
       "      <th>lab_result_3</th>\n",
       "      <th>weight</th>\n",
       "      <th>height</th>\n",
       "      <th>freq</th>\n",
       "      <th>days_admitted</th>\n",
       "      <th>age</th>\n",
       "      <th>amount</th>\n",
       "    </tr>\n",
       "  </thead>\n",
       "  <tbody>\n",
       "    <tr>\n",
       "      <th>0</th>\n",
       "      <td>fa2d818b2261e44e30628ad1ac9cc72c</td>\n",
       "      <td>Female</td>\n",
       "      <td>Indian</td>\n",
       "      <td>Singaporean</td>\n",
       "      <td>1971-05-14</td>\n",
       "      <td>2014-09-20</td>\n",
       "      <td>2014-10-04</td>\n",
       "      <td>0</td>\n",
       "      <td>0.0</td>\n",
       "      <td>0.0</td>\n",
       "      <td>0</td>\n",
       "      <td>0.0</td>\n",
       "      <td>0</td>\n",
       "      <td>1</td>\n",
       "      <td>1</td>\n",
       "      <td>0</td>\n",
       "      <td>1</td>\n",
       "      <td>0</td>\n",
       "      <td>1</td>\n",
       "      <td>1</td>\n",
       "      <td>1</td>\n",
       "      <td>1</td>\n",
       "      <td>0</td>\n",
       "      <td>0</td>\n",
       "      <td>1</td>\n",
       "      <td>14.2</td>\n",
       "      <td>27.0</td>\n",
       "      <td>81.0</td>\n",
       "      <td>68.1</td>\n",
       "      <td>161.0</td>\n",
       "      <td>1</td>\n",
       "      <td>14 days 00:00:00.000000000</td>\n",
       "      <td>47.0</td>\n",
       "      <td>19564.17</td>\n",
       "    </tr>\n",
       "    <tr>\n",
       "      <th>1</th>\n",
       "      <td>5b6477c5de78d0b138e3b0c18e21d0ae</td>\n",
       "      <td>Female</td>\n",
       "      <td>Chinese</td>\n",
       "      <td>Singaporean</td>\n",
       "      <td>1976-02-18</td>\n",
       "      <td>2014-08-08</td>\n",
       "      <td>2014-08-18</td>\n",
       "      <td>0</td>\n",
       "      <td>0.0</td>\n",
       "      <td>0.0</td>\n",
       "      <td>0</td>\n",
       "      <td>NaN</td>\n",
       "      <td>0</td>\n",
       "      <td>1</td>\n",
       "      <td>0</td>\n",
       "      <td>0</td>\n",
       "      <td>0</td>\n",
       "      <td>1</td>\n",
       "      <td>1</td>\n",
       "      <td>1</td>\n",
       "      <td>1</td>\n",
       "      <td>1</td>\n",
       "      <td>1</td>\n",
       "      <td>1</td>\n",
       "      <td>1</td>\n",
       "      <td>14.3</td>\n",
       "      <td>27.2</td>\n",
       "      <td>92.0</td>\n",
       "      <td>76.5</td>\n",
       "      <td>151.0</td>\n",
       "      <td>1</td>\n",
       "      <td>10 days 00:00:00.000000000</td>\n",
       "      <td>42.0</td>\n",
       "      <td>20465.40</td>\n",
       "    </tr>\n",
       "    <tr>\n",
       "      <th>2</th>\n",
       "      <td>320aa16c61937447fd6631bf635e7fde</td>\n",
       "      <td>Male</td>\n",
       "      <td>Chinese</td>\n",
       "      <td>Singaporean</td>\n",
       "      <td>1982-07-03</td>\n",
       "      <td>2011-03-10</td>\n",
       "      <td>2011-03-20</td>\n",
       "      <td>0</td>\n",
       "      <td>0.0</td>\n",
       "      <td>0.0</td>\n",
       "      <td>0</td>\n",
       "      <td>0.0</td>\n",
       "      <td>1</td>\n",
       "      <td>0</td>\n",
       "      <td>0</td>\n",
       "      <td>1</td>\n",
       "      <td>1</td>\n",
       "      <td>1</td>\n",
       "      <td>1</td>\n",
       "      <td>0</td>\n",
       "      <td>0</td>\n",
       "      <td>0</td>\n",
       "      <td>1</td>\n",
       "      <td>1</td>\n",
       "      <td>1</td>\n",
       "      <td>14.4</td>\n",
       "      <td>26.6</td>\n",
       "      <td>92.0</td>\n",
       "      <td>69.7</td>\n",
       "      <td>175.0</td>\n",
       "      <td>2</td>\n",
       "      <td>10 days 00:00:00.000000000</td>\n",
       "      <td>36.0</td>\n",
       "      <td>14435.91</td>\n",
       "    </tr>\n",
       "    <tr>\n",
       "      <th>3</th>\n",
       "      <td>320aa16c61937447fd6631bf635e7fde</td>\n",
       "      <td>Male</td>\n",
       "      <td>Chinese</td>\n",
       "      <td>Singaporean</td>\n",
       "      <td>1982-07-03</td>\n",
       "      <td>2013-07-02</td>\n",
       "      <td>2013-07-14</td>\n",
       "      <td>0</td>\n",
       "      <td>0.0</td>\n",
       "      <td>0.0</td>\n",
       "      <td>1</td>\n",
       "      <td>NaN</td>\n",
       "      <td>0</td>\n",
       "      <td>0</td>\n",
       "      <td>1</td>\n",
       "      <td>1</td>\n",
       "      <td>0</td>\n",
       "      <td>1</td>\n",
       "      <td>0</td>\n",
       "      <td>1</td>\n",
       "      <td>1</td>\n",
       "      <td>0</td>\n",
       "      <td>0</td>\n",
       "      <td>1</td>\n",
       "      <td>0</td>\n",
       "      <td>18.0</td>\n",
       "      <td>26.6</td>\n",
       "      <td>92.0</td>\n",
       "      <td>66.7</td>\n",
       "      <td>175.0</td>\n",
       "      <td>2</td>\n",
       "      <td>12 days 00:00:00.000000000</td>\n",
       "      <td>36.0</td>\n",
       "      <td>6578.39</td>\n",
       "    </tr>\n",
       "    <tr>\n",
       "      <th>4</th>\n",
       "      <td>c7f3881684045e6c49020481020fae36</td>\n",
       "      <td>Male</td>\n",
       "      <td>Malay</td>\n",
       "      <td>Singaporean</td>\n",
       "      <td>1947-06-15</td>\n",
       "      <td>2015-10-28</td>\n",
       "      <td>2015-11-10</td>\n",
       "      <td>0</td>\n",
       "      <td>1.0</td>\n",
       "      <td>0.0</td>\n",
       "      <td>0</td>\n",
       "      <td>0.0</td>\n",
       "      <td>0</td>\n",
       "      <td>0</td>\n",
       "      <td>0</td>\n",
       "      <td>1</td>\n",
       "      <td>0</td>\n",
       "      <td>0</td>\n",
       "      <td>1</td>\n",
       "      <td>1</td>\n",
       "      <td>1</td>\n",
       "      <td>1</td>\n",
       "      <td>1</td>\n",
       "      <td>1</td>\n",
       "      <td>1</td>\n",
       "      <td>14.9</td>\n",
       "      <td>26.7</td>\n",
       "      <td>97.0</td>\n",
       "      <td>96.9</td>\n",
       "      <td>180.0</td>\n",
       "      <td>1</td>\n",
       "      <td>13 days 00:00:00.000000000</td>\n",
       "      <td>71.0</td>\n",
       "      <td>45452.31</td>\n",
       "    </tr>\n",
       "  </tbody>\n",
       "</table>\n",
       "</div>"
      ],
      "text/plain": [
       "                         patient_id  gender     race resident_status  \\\n",
       "0  fa2d818b2261e44e30628ad1ac9cc72c  Female   Indian     Singaporean   \n",
       "1  5b6477c5de78d0b138e3b0c18e21d0ae  Female  Chinese     Singaporean   \n",
       "2  320aa16c61937447fd6631bf635e7fde    Male  Chinese     Singaporean   \n",
       "3  320aa16c61937447fd6631bf635e7fde    Male  Chinese     Singaporean   \n",
       "4  c7f3881684045e6c49020481020fae36    Male    Malay     Singaporean   \n",
       "\n",
       "  date_of_birth date_of_admission date_of_discharge  medical_history_1  \\\n",
       "0    1971-05-14        2014-09-20        2014-10-04                  0   \n",
       "1    1976-02-18        2014-08-08        2014-08-18                  0   \n",
       "2    1982-07-03        2011-03-10        2011-03-20                  0   \n",
       "3    1982-07-03        2013-07-02        2013-07-14                  0   \n",
       "4    1947-06-15        2015-10-28        2015-11-10                  0   \n",
       "\n",
       "   medical_history_2  medical_history_3  medical_history_4  medical_history_5  \\\n",
       "0                0.0                0.0                  0                0.0   \n",
       "1                0.0                0.0                  0                NaN   \n",
       "2                0.0                0.0                  0                0.0   \n",
       "3                0.0                0.0                  1                NaN   \n",
       "4                1.0                0.0                  0                0.0   \n",
       "\n",
       "   medical_history_6  medical_history_7  preop_medication_1  \\\n",
       "0                  0                  1                   1   \n",
       "1                  0                  1                   0   \n",
       "2                  1                  0                   0   \n",
       "3                  0                  0                   1   \n",
       "4                  0                  0                   0   \n",
       "\n",
       "   preop_medication_2  preop_medication_3  preop_medication_4  \\\n",
       "0                   0                   1                   0   \n",
       "1                   0                   0                   1   \n",
       "2                   1                   1                   1   \n",
       "3                   1                   0                   1   \n",
       "4                   1                   0                   0   \n",
       "\n",
       "   preop_medication_5  preop_medication_6  symptom_1  symptom_2  symptom_3  \\\n",
       "0                   1                   1          1          1          0   \n",
       "1                   1                   1          1          1          1   \n",
       "2                   1                   0          0          0          1   \n",
       "3                   0                   1          1          0          0   \n",
       "4                   1                   1          1          1          1   \n",
       "\n",
       "   symptom_4  symptom_5  lab_result_1  lab_result_2  lab_result_3  weight  \\\n",
       "0          0          1          14.2          27.0          81.0    68.1   \n",
       "1          1          1          14.3          27.2          92.0    76.5   \n",
       "2          1          1          14.4          26.6          92.0    69.7   \n",
       "3          1          0          18.0          26.6          92.0    66.7   \n",
       "4          1          1          14.9          26.7          97.0    96.9   \n",
       "\n",
       "   height  freq               days_admitted   age    amount  \n",
       "0   161.0     1  14 days 00:00:00.000000000  47.0  19564.17  \n",
       "1   151.0     1  10 days 00:00:00.000000000  42.0  20465.40  \n",
       "2   175.0     2  10 days 00:00:00.000000000  36.0  14435.91  \n",
       "3   175.0     2  12 days 00:00:00.000000000  36.0   6578.39  \n",
       "4   180.0     1  13 days 00:00:00.000000000  71.0  45452.31  "
      ]
     },
     "execution_count": 13,
     "metadata": {},
     "output_type": "execute_result"
    }
   ],
   "source": [
    "df.head()"
   ]
  },
  {
   "cell_type": "code",
   "execution_count": null,
   "metadata": {},
   "outputs": [],
   "source": []
  },
  {
   "cell_type": "markdown",
   "metadata": {},
   "source": [
    "### (B) Clean the datasets\n",
    "`bill_amt` dataset does not require any cleaning.<br>\n",
    "`bill_id_df` dataset column `date_of_admission` needs to be changed to datetime object.<br>\n",
    "`data` dataset column `medical_history_3` has string objects that needs to be changed to binary & dates to be changed to datetime objects.<br>\n",
    "`demographic` dataset column for gender, race and citizenship needs to be changed for consistency & dates to be changed to datetime objects.<br>\n",
    "\n",
    "---\n",
    "B1 - Clean `bill_id_df`"
   ]
  },
  {
   "cell_type": "markdown",
   "metadata": {},
   "source": [
    "The `patients` dataset has all the combined information of the costs incurred by a patient for each of the time they were admitted. Now we are ready to analyse our data."
   ]
  }
 ],
 "metadata": {
  "kernelspec": {
   "display_name": "Python 2",
   "language": "python",
   "name": "python2"
  },
  "language_info": {
   "codemirror_mode": {
    "name": "ipython",
    "version": 2
   },
   "file_extension": ".py",
   "mimetype": "text/x-python",
   "name": "python",
   "nbconvert_exporter": "python",
   "pygments_lexer": "ipython2",
   "version": "2.7.14"
  }
 },
 "nbformat": 4,
 "nbformat_minor": 2
}
